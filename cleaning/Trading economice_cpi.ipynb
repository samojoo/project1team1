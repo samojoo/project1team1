{
 "cells": [
  {
   "cell_type": "code",
   "execution_count": 6,
   "metadata": {},
   "outputs": [
    {
     "name": "stdout",
     "output_type": "stream",
     "text": [
      "Collecting tradingeconomics\n",
      "  Downloading https://files.pythonhosted.org/packages/66/2f/29d1685e427579178191ba0daf49e06ccd9011aaed19d6f5e723fe584996/tradingeconomics-0.2.932.tar.gz\n",
      "Requirement already satisfied: pandas in c:\\users\\hchan\\anaconda3\\lib\\site-packages (from tradingeconomics) (0.23.4)\n",
      "Collecting websocket-client (from tradingeconomics)\n",
      "  Downloading https://files.pythonhosted.org/packages/26/2d/f749a5c82f6192d77ed061a38e02001afcba55fe8477336d26a950ab17ce/websocket_client-0.54.0-py2.py3-none-any.whl (200kB)\n",
      "Requirement already satisfied: python-dateutil>=2.5.0 in c:\\users\\hchan\\anaconda3\\lib\\site-packages (from pandas->tradingeconomics) (2.7.3)\n",
      "Requirement already satisfied: pytz>=2011k in c:\\users\\hchan\\anaconda3\\lib\\site-packages (from pandas->tradingeconomics) (2018.5)\n",
      "Requirement already satisfied: numpy>=1.9.0 in c:\\users\\hchan\\anaconda3\\lib\\site-packages (from pandas->tradingeconomics) (1.15.1)\n",
      "Requirement already satisfied: six in c:\\users\\hchan\\anaconda3\\lib\\site-packages (from websocket-client->tradingeconomics) (1.11.0)\n",
      "Building wheels for collected packages: tradingeconomics\n",
      "  Running setup.py bdist_wheel for tradingeconomics: started\n",
      "  Running setup.py bdist_wheel for tradingeconomics: finished with status 'done'\n",
      "  Stored in directory: C:\\Users\\hchan\\AppData\\Local\\pip\\Cache\\wheels\\38\\c1\\a8\\7dfcd8a51f5bfc0bdbc66ebcb2c5501e4b684a17c8e9e082f7\n",
      "Successfully built tradingeconomics\n",
      "Installing collected packages: websocket-client, tradingeconomics\n",
      "Successfully installed tradingeconomics-0.2.932 websocket-client-0.54.0\n"
     ]
    },
    {
     "name": "stderr",
     "output_type": "stream",
     "text": [
      "twisted 18.7.0 requires PyHamcrest>=1.9.0, which is not installed.\n",
      "You are using pip version 10.0.1, however version 18.1 is available.\n",
      "You should consider upgrading via the 'python -m pip install --upgrade pip' command.\n"
     ]
    }
   ],
   "source": [
    "\n",
    "import sys\n",
    "!{sys.executable} -m pip install tradingeconomics\n",
    "import pandas as pd\n",
    "import requests\n",
    "from pprint import pprint\n",
    "import numpy as np\n",
    "import tradingeconomics as te\n",
    "\n",
    "\n"
   ]
  },
  {
   "cell_type": "code",
   "execution_count": 7,
   "metadata": {},
   "outputs": [
    {
     "data": {
      "text/plain": [
       "'You are logged in as a guest:guest'"
      ]
     },
     "execution_count": 7,
     "metadata": {},
     "output_type": "execute_result"
    }
   ],
   "source": [
    "te.login()"
   ]
  },
  {
   "cell_type": "code",
   "execution_count": 16,
   "metadata": {},
   "outputs": [
    {
     "name": "stdout",
     "output_type": "stream",
     "text": [
      "https://api.tradingeconomics.com/historical/country/canada/indicator/cpi/1946-01-01?c=guest:guest\n"
     ]
    }
   ],
   "source": [
    "cpi_df = te.getHistoricalData(country='canada', indicator='cpi', initDate='1946-01-01')"
   ]
  },
  {
   "cell_type": "code",
   "execution_count": 20,
   "metadata": {},
   "outputs": [
    {
     "data": {
      "text/html": [
       "<div>\n",
       "<style scoped>\n",
       "    .dataframe tbody tr th:only-of-type {\n",
       "        vertical-align: middle;\n",
       "    }\n",
       "\n",
       "    .dataframe tbody tr th {\n",
       "        vertical-align: top;\n",
       "    }\n",
       "\n",
       "    .dataframe thead th {\n",
       "        text-align: right;\n",
       "    }\n",
       "</style>\n",
       "<table border=\"1\" class=\"dataframe\">\n",
       "  <thead>\n",
       "    <tr style=\"text-align: right;\">\n",
       "      <th></th>\n",
       "      <th>0</th>\n",
       "    </tr>\n",
       "  </thead>\n",
       "  <tbody>\n",
       "    <tr>\n",
       "      <th>2008-12-31</th>\n",
       "      <td>1549.13</td>\n",
       "    </tr>\n",
       "    <tr>\n",
       "      <th>2009-12-31</th>\n",
       "      <td>1371.15</td>\n",
       "    </tr>\n",
       "    <tr>\n",
       "      <th>2010-12-31</th>\n",
       "      <td>1613.46</td>\n",
       "    </tr>\n",
       "    <tr>\n",
       "      <th>2011-12-31</th>\n",
       "      <td>1788.65</td>\n",
       "    </tr>\n",
       "    <tr>\n",
       "      <th>2012-12-31</th>\n",
       "      <td>1824.29</td>\n",
       "    </tr>\n",
       "    <tr>\n",
       "      <th>2013-12-31</th>\n",
       "      <td>1842.63</td>\n",
       "    </tr>\n",
       "    <tr>\n",
       "      <th>2014-12-31</th>\n",
       "      <td>1799.27</td>\n",
       "    </tr>\n",
       "    <tr>\n",
       "      <th>2015-12-31</th>\n",
       "      <td>1559.62</td>\n",
       "    </tr>\n",
       "    <tr>\n",
       "      <th>2016-12-31</th>\n",
       "      <td>1535.77</td>\n",
       "    </tr>\n",
       "    <tr>\n",
       "      <th>2017-12-31</th>\n",
       "      <td>1653.04</td>\n",
       "    </tr>\n",
       "  </tbody>\n",
       "</table>\n",
       "</div>"
      ],
      "text/plain": [
       "                  0\n",
       "2008-12-31  1549.13\n",
       "2009-12-31  1371.15\n",
       "2010-12-31  1613.46\n",
       "2011-12-31  1788.65\n",
       "2012-12-31  1824.29\n",
       "2013-12-31  1842.63\n",
       "2014-12-31  1799.27\n",
       "2015-12-31  1559.62\n",
       "2016-12-31  1535.77\n",
       "2017-12-31  1653.04"
      ]
     },
     "execution_count": 20,
     "metadata": {},
     "output_type": "execute_result"
    }
   ],
   "source": [
    "cpi_df"
   ]
  },
  {
   "cell_type": "code",
   "execution_count": null,
   "metadata": {},
   "outputs": [],
   "source": []
  }
 ],
 "metadata": {
  "kernelspec": {
   "display_name": "Python 3",
   "language": "python",
   "name": "python3"
  },
  "language_info": {
   "codemirror_mode": {
    "name": "ipython",
    "version": 3
   },
   "file_extension": ".py",
   "mimetype": "text/x-python",
   "name": "python",
   "nbconvert_exporter": "python",
   "pygments_lexer": "ipython3",
   "version": "3.7.0"
  }
 },
 "nbformat": 4,
 "nbformat_minor": 2
}
